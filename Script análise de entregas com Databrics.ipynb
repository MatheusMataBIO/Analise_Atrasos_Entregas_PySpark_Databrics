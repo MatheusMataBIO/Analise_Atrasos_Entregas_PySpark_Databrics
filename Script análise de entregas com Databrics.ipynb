{
 "cells": [
  {
   "cell_type": "code",
   "execution_count": 0,
   "metadata": {
    "application/vnd.databricks.v1+cell": {
     "cellMetadata": {
      "byteLimit": 2048000,
      "rowLimit": 10000
     },
     "inputWidgets": {},
     "nuid": "a35801e2-42e4-4b87-af5d-c043ec9d151b",
     "showTitle": false,
     "tableResultSettingsMap": {},
     "title": ""
    }
   },
   "outputs": [],
   "source": [
    "from pyspark.sql import SparkSession\n",
    "\n",
    "# Criar sessão Spark (caso ainda não tenha sido criada)\n",
    "spark = SparkSession.builder.appName(\"VisualizandoDataset\").getOrCreate()"
   ]
  },
  {
   "cell_type": "code",
   "execution_count": 0,
   "metadata": {
    "application/vnd.databricks.v1+cell": {
     "cellMetadata": {
      "byteLimit": 2048000,
      "rowLimit": 10000
     },
     "inputWidgets": {},
     "nuid": "fc5166f4-3d33-4349-9df3-d9c45254f28d",
     "showTitle": false,
     "tableResultSettingsMap": {},
     "title": ""
    }
   },
   "outputs": [
    {
     "output_type": "stream",
     "name": "stdout",
     "output_type": "stream",
     "text": [
      "+----------+-----------+------------+--------------+------------+--------+\n|ID_Entrega|Data_Pedido|Data_Entrega|Transportadora|Distancia_km|  Status|\n+----------+-----------+------------+--------------+------------+--------+\n|         1| 2024-02-01|  2024-02-05|             A|         100|Entregue|\n|         2| 2024-02-03|  2024-02-06|             B|         250|Atrasado|\n|         3| 2024-02-02|  2024-02-04|             A|          50|Entregue|\n|         4| 2024-02-05|  2024-02-10|             C|         500|Atrasado|\n|         5| 2024-02-06|  2024-02-07|             B|          30|Entregue|\n+----------+-----------+------------+--------------+------------+--------+\n\n"
     ]
    }
   ],
   "source": [
    "# Caminho do dataset\n",
    "caminho_dataset = \"dbfs:/FileStore/tables/entregas-2.csv\"\n",
    "# Visualizando o dataset \n",
    "df_entregas = spark.read.csv(caminho_dataset, header=True, inferSchema=True)\n",
    "df_entregas.show()\n",
    "\n",
    "\n"
   ]
  },
  {
   "cell_type": "code",
   "execution_count": 0,
   "metadata": {
    "application/vnd.databricks.v1+cell": {
     "cellMetadata": {
      "byteLimit": 2048000,
      "rowLimit": 10000
     },
     "inputWidgets": {},
     "nuid": "32b9e63f-76d4-4ad3-a5a5-e164451d64ba",
     "showTitle": false,
     "tableResultSettingsMap": {},
     "title": ""
    }
   },
   "outputs": [
    {
     "output_type": "stream",
     "name": "stdout",
     "output_type": "stream",
     "text": [
      "+-------+------------------+--------------+------------------+--------+\n|summary|        ID_Entrega|Transportadora|      Distancia_km|  Status|\n+-------+------------------+--------------+------------------+--------+\n|  count|                 5|             5|                 5|       5|\n|   mean|               3.0|          null|             186.0|    null|\n| stddev|1.5811388300841898|          null|195.52493447128424|    null|\n|    min|                 1|             A|                30|Atrasado|\n|    max|                 5|             C|               500|Entregue|\n+-------+------------------+--------------+------------------+--------+\n\n"
     ]
    }
   ],
   "source": [
    "# Análise descritiva dos dados \n",
    "df_entregas.describe().show()"
   ]
  },
  {
   "cell_type": "code",
   "execution_count": 0,
   "metadata": {
    "application/vnd.databricks.v1+cell": {
     "cellMetadata": {
      "byteLimit": 2048000,
      "rowLimit": 10000
     },
     "inputWidgets": {},
     "nuid": "a068b573-83be-430f-b153-58fd87f66325",
     "showTitle": false,
     "tableResultSettingsMap": {},
     "title": ""
    }
   },
   "outputs": [
    {
     "output_type": "stream",
     "name": "stdout",
     "output_type": "stream",
     "text": [
      "5\n2\n"
     ]
    }
   ],
   "source": [
    "from pyspark.sql.functions import col, count, when\n",
    "\n",
    "# Contar o número total de entregas e atrasos \n",
    "total_entregas = df_entregas.count()\n",
    "total_atrasos = df_entregas.filter(col(\"Status\") == \"Atrasado\").count()\n",
    "\n",
    "print(total_entregas)\n",
    "print(total_atrasos)"
   ]
  },
  {
   "cell_type": "code",
   "execution_count": 0,
   "metadata": {
    "application/vnd.databricks.v1+cell": {
     "cellMetadata": {
      "byteLimit": 2048000,
      "rowLimit": 10000
     },
     "inputWidgets": {},
     "nuid": "41e9d781-8853-47f4-ab70-6b627908100c",
     "showTitle": false,
     "tableResultSettingsMap": {},
     "title": ""
    }
   },
   "outputs": [
    {
     "output_type": "stream",
     "name": "stdout",
     "output_type": "stream",
     "text": [
      "Taxa de atraso: 40.00%\n"
     ]
    }
   ],
   "source": [
    "# Calcular  taxa de atraso\n",
    "taxa_atraso = (total_atrasos/total_entregas) * 100\n",
    "print(f\"Taxa de atraso: {taxa_atraso:.2f}%\")"
   ]
  },
  {
   "cell_type": "code",
   "execution_count": 0,
   "metadata": {
    "application/vnd.databricks.v1+cell": {
     "cellMetadata": {
      "byteLimit": 2048000,
      "rowLimit": 10000
     },
     "inputWidgets": {},
     "nuid": "389214d9-a07e-4115-ba64-0cb1e5d18801",
     "showTitle": false,
     "tableResultSettingsMap": {},
     "title": ""
    }
   },
   "outputs": [
    {
     "output_type": "stream",
     "name": "stdout",
     "output_type": "stream",
     "text": [
      "+--------------+-------------+\n|Transportadora|Total_Atrasos|\n+--------------+-------------+\n|             B|            1|\n|             C|            1|\n|             A|            0|\n+--------------+-------------+\n\n"
     ]
    }
   ],
   "source": [
    "# Analisar atrasos por transportadora\n",
    "df_entregas.groupBy(\"Transportadora\").agg(count(when(col(\"Status\") == \"Atrasado\", True)).alias(\"Total_Atrasos\")).show()"
   ]
  },
  {
   "cell_type": "code",
   "execution_count": 0,
   "metadata": {
    "application/vnd.databricks.v1+cell": {
     "cellMetadata": {
      "byteLimit": 2048000,
      "rowLimit": 10000
     },
     "inputWidgets": {},
     "nuid": "7fa70769-9fc7-4c6f-8258-2b8dfc54d49b",
     "showTitle": false,
     "tableResultSettingsMap": {},
     "title": ""
    }
   },
   "outputs": [
    {
     "output_type": "stream",
     "name": "stdout",
     "output_type": "stream",
     "text": [
      "+------------+-------------+\n|Distancia_km|Total_Atrasos|\n+------------+-------------+\n|         500|            1|\n|         250|            1|\n|         100|            0|\n|          50|            0|\n|          30|            0|\n+------------+-------------+\n\n"
     ]
    }
   ],
   "source": [
    "# Verificar relação entre distância e atrasos \n",
    "df_entregas.groupBy(\"Distancia_km\").agg(count(when(col(\"Status\") == \"Atrasado\", True)).alias(\"Total_Atrasos\")).show()"
   ]
  },
  {
   "cell_type": "code",
   "execution_count": 0,
   "metadata": {
    "application/vnd.databricks.v1+cell": {
     "cellMetadata": {},
     "inputWidgets": {},
     "nuid": "145e2f27-61c9-4a61-ae45-85ffc1f3de6b",
     "showTitle": false,
     "tableResultSettingsMap": {},
     "title": ""
    }
   },
   "outputs": [],
   "source": []
  }
 ],
 "metadata": {
  "application/vnd.databricks.v1+notebook": {
   "computePreferences": null,
   "dashboards": [],
   "environmentMetadata": {
    "base_environment": "",
    "client": "1"
   },
   "language": "python",
   "notebookMetadata": {
    "pythonIndentUnit": 4
   },
   "notebookName": "Notebook sem título 2025-02-14 14:25:01",
   "widgets": {}
  }
 },
 "nbformat": 4,
 "nbformat_minor": 0
}
